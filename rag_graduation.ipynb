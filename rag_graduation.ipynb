{
 "cells": [
  {
   "cell_type": "markdown",
   "metadata": {},
   "source": [
    "# pip install"
   ]
  },
  {
   "cell_type": "code",
   "execution_count": 1,
   "metadata": {},
   "outputs": [
    {
     "name": "stdout",
     "output_type": "stream",
     "text": [
      "\n",
      "\u001b[1m[\u001b[0m\u001b[34;49mnotice\u001b[0m\u001b[1;39;49m]\u001b[0m\u001b[39;49m A new release of pip is available: \u001b[0m\u001b[31;49m24.0\u001b[0m\u001b[39;49m -> \u001b[0m\u001b[32;49m24.2\u001b[0m\n",
      "\u001b[1m[\u001b[0m\u001b[34;49mnotice\u001b[0m\u001b[1;39;49m]\u001b[0m\u001b[39;49m To update, run: \u001b[0m\u001b[32;49mpip install --upgrade pip\u001b[0m\n",
      "Note: you may need to restart the kernel to use updated packages.\n"
     ]
    }
   ],
   "source": [
    "%pip install --upgrade --quiet  docx2txt langchain-community"
   ]
  },
  {
   "cell_type": "code",
   "execution_count": 2,
   "metadata": {},
   "outputs": [
    {
     "name": "stdout",
     "output_type": "stream",
     "text": [
      "\n",
      "\u001b[1m[\u001b[0m\u001b[34;49mnotice\u001b[0m\u001b[1;39;49m]\u001b[0m\u001b[39;49m A new release of pip is available: \u001b[0m\u001b[31;49m24.0\u001b[0m\u001b[39;49m -> \u001b[0m\u001b[32;49m24.2\u001b[0m\n",
      "\u001b[1m[\u001b[0m\u001b[34;49mnotice\u001b[0m\u001b[1;39;49m]\u001b[0m\u001b[39;49m To update, run: \u001b[0m\u001b[32;49mpip install --upgrade pip\u001b[0m\n",
      "Note: you may need to restart the kernel to use updated packages.\n"
     ]
    }
   ],
   "source": [
    "%pip install -qU langchain-text-splitters"
   ]
  },
  {
   "cell_type": "code",
   "execution_count": 3,
   "metadata": {},
   "outputs": [
    {
     "name": "stdout",
     "output_type": "stream",
     "text": [
      "Collecting langchain-pinecone\n",
      "  Downloading langchain_pinecone-0.2.0-py3-none-any.whl.metadata (1.7 kB)\n",
      "Collecting aiohttp<3.10,>=3.9.5 (from langchain-pinecone)\n",
      "  Downloading aiohttp-3.9.5-cp311-cp311-manylinux_2_17_x86_64.manylinux2014_x86_64.whl.metadata (7.5 kB)\n",
      "Requirement already satisfied: langchain-core<0.4,>=0.3 in /home/yejun/.pyenv/versions/3.11.9/envs/graduation-chatbot/lib/python3.11/site-packages (from langchain-pinecone) (0.3.6)\n",
      "Requirement already satisfied: numpy<2,>=1 in /home/yejun/.pyenv/versions/3.11.9/envs/graduation-chatbot/lib/python3.11/site-packages (from langchain-pinecone) (1.26.4)\n",
      "Collecting pinecone-client<6.0.0,>=5.0.0 (from langchain-pinecone)\n",
      "  Using cached pinecone_client-5.0.1-py3-none-any.whl.metadata (19 kB)\n",
      "Requirement already satisfied: aiosignal>=1.1.2 in /home/yejun/.pyenv/versions/3.11.9/envs/graduation-chatbot/lib/python3.11/site-packages (from aiohttp<3.10,>=3.9.5->langchain-pinecone) (1.3.1)\n",
      "Requirement already satisfied: attrs>=17.3.0 in /home/yejun/.pyenv/versions/3.11.9/envs/graduation-chatbot/lib/python3.11/site-packages (from aiohttp<3.10,>=3.9.5->langchain-pinecone) (24.2.0)\n",
      "Requirement already satisfied: frozenlist>=1.1.1 in /home/yejun/.pyenv/versions/3.11.9/envs/graduation-chatbot/lib/python3.11/site-packages (from aiohttp<3.10,>=3.9.5->langchain-pinecone) (1.4.1)\n",
      "Requirement already satisfied: multidict<7.0,>=4.5 in /home/yejun/.pyenv/versions/3.11.9/envs/graduation-chatbot/lib/python3.11/site-packages (from aiohttp<3.10,>=3.9.5->langchain-pinecone) (6.1.0)\n",
      "Requirement already satisfied: yarl<2.0,>=1.0 in /home/yejun/.pyenv/versions/3.11.9/envs/graduation-chatbot/lib/python3.11/site-packages (from aiohttp<3.10,>=3.9.5->langchain-pinecone) (1.13.1)\n",
      "Requirement already satisfied: PyYAML>=5.3 in /home/yejun/.pyenv/versions/3.11.9/envs/graduation-chatbot/lib/python3.11/site-packages (from langchain-core<0.4,>=0.3->langchain-pinecone) (6.0.2)\n",
      "Requirement already satisfied: jsonpatch<2.0,>=1.33 in /home/yejun/.pyenv/versions/3.11.9/envs/graduation-chatbot/lib/python3.11/site-packages (from langchain-core<0.4,>=0.3->langchain-pinecone) (1.33)\n",
      "Requirement already satisfied: langsmith<0.2.0,>=0.1.125 in /home/yejun/.pyenv/versions/3.11.9/envs/graduation-chatbot/lib/python3.11/site-packages (from langchain-core<0.4,>=0.3->langchain-pinecone) (0.1.129)\n",
      "Requirement already satisfied: packaging<25,>=23.2 in /home/yejun/.pyenv/versions/3.11.9/envs/graduation-chatbot/lib/python3.11/site-packages (from langchain-core<0.4,>=0.3->langchain-pinecone) (24.1)\n",
      "Requirement already satisfied: pydantic<3.0.0,>=2.5.2 in /home/yejun/.pyenv/versions/3.11.9/envs/graduation-chatbot/lib/python3.11/site-packages (from langchain-core<0.4,>=0.3->langchain-pinecone) (2.9.2)\n",
      "Requirement already satisfied: tenacity!=8.4.0,<9.0.0,>=8.1.0 in /home/yejun/.pyenv/versions/3.11.9/envs/graduation-chatbot/lib/python3.11/site-packages (from langchain-core<0.4,>=0.3->langchain-pinecone) (8.5.0)\n",
      "Requirement already satisfied: typing-extensions>=4.7 in /home/yejun/.pyenv/versions/3.11.9/envs/graduation-chatbot/lib/python3.11/site-packages (from langchain-core<0.4,>=0.3->langchain-pinecone) (4.12.2)\n",
      "Requirement already satisfied: certifi>=2019.11.17 in /home/yejun/.pyenv/versions/3.11.9/envs/graduation-chatbot/lib/python3.11/site-packages (from pinecone-client<6.0.0,>=5.0.0->langchain-pinecone) (2024.8.30)\n",
      "Collecting pinecone-plugin-inference<2.0.0,>=1.0.3 (from pinecone-client<6.0.0,>=5.0.0->langchain-pinecone)\n",
      "  Using cached pinecone_plugin_inference-1.1.0-py3-none-any.whl.metadata (2.2 kB)\n",
      "Collecting pinecone-plugin-interface<0.0.8,>=0.0.7 (from pinecone-client<6.0.0,>=5.0.0->langchain-pinecone)\n",
      "  Using cached pinecone_plugin_interface-0.0.7-py3-none-any.whl.metadata (1.2 kB)\n",
      "Collecting tqdm>=4.64.1 (from pinecone-client<6.0.0,>=5.0.0->langchain-pinecone)\n",
      "  Using cached tqdm-4.66.5-py3-none-any.whl.metadata (57 kB)\n",
      "Requirement already satisfied: urllib3>=1.26.0 in /home/yejun/.pyenv/versions/3.11.9/envs/graduation-chatbot/lib/python3.11/site-packages (from pinecone-client<6.0.0,>=5.0.0->langchain-pinecone) (2.2.3)\n",
      "Requirement already satisfied: jsonpointer>=1.9 in /home/yejun/.pyenv/versions/3.11.9/envs/graduation-chatbot/lib/python3.11/site-packages (from jsonpatch<2.0,>=1.33->langchain-core<0.4,>=0.3->langchain-pinecone) (3.0.0)\n",
      "Requirement already satisfied: httpx<1,>=0.23.0 in /home/yejun/.pyenv/versions/3.11.9/envs/graduation-chatbot/lib/python3.11/site-packages (from langsmith<0.2.0,>=0.1.125->langchain-core<0.4,>=0.3->langchain-pinecone) (0.27.2)\n",
      "Requirement already satisfied: orjson<4.0.0,>=3.9.14 in /home/yejun/.pyenv/versions/3.11.9/envs/graduation-chatbot/lib/python3.11/site-packages (from langsmith<0.2.0,>=0.1.125->langchain-core<0.4,>=0.3->langchain-pinecone) (3.10.7)\n",
      "Requirement already satisfied: requests<3,>=2 in /home/yejun/.pyenv/versions/3.11.9/envs/graduation-chatbot/lib/python3.11/site-packages (from langsmith<0.2.0,>=0.1.125->langchain-core<0.4,>=0.3->langchain-pinecone) (2.32.3)\n",
      "Requirement already satisfied: annotated-types>=0.6.0 in /home/yejun/.pyenv/versions/3.11.9/envs/graduation-chatbot/lib/python3.11/site-packages (from pydantic<3.0.0,>=2.5.2->langchain-core<0.4,>=0.3->langchain-pinecone) (0.7.0)\n",
      "Requirement already satisfied: pydantic-core==2.23.4 in /home/yejun/.pyenv/versions/3.11.9/envs/graduation-chatbot/lib/python3.11/site-packages (from pydantic<3.0.0,>=2.5.2->langchain-core<0.4,>=0.3->langchain-pinecone) (2.23.4)\n",
      "Requirement already satisfied: idna>=2.0 in /home/yejun/.pyenv/versions/3.11.9/envs/graduation-chatbot/lib/python3.11/site-packages (from yarl<2.0,>=1.0->aiohttp<3.10,>=3.9.5->langchain-pinecone) (3.10)\n",
      "Requirement already satisfied: anyio in /home/yejun/.pyenv/versions/3.11.9/envs/graduation-chatbot/lib/python3.11/site-packages (from httpx<1,>=0.23.0->langsmith<0.2.0,>=0.1.125->langchain-core<0.4,>=0.3->langchain-pinecone) (4.6.0)\n",
      "Requirement already satisfied: httpcore==1.* in /home/yejun/.pyenv/versions/3.11.9/envs/graduation-chatbot/lib/python3.11/site-packages (from httpx<1,>=0.23.0->langsmith<0.2.0,>=0.1.125->langchain-core<0.4,>=0.3->langchain-pinecone) (1.0.5)\n",
      "Requirement already satisfied: sniffio in /home/yejun/.pyenv/versions/3.11.9/envs/graduation-chatbot/lib/python3.11/site-packages (from httpx<1,>=0.23.0->langsmith<0.2.0,>=0.1.125->langchain-core<0.4,>=0.3->langchain-pinecone) (1.3.1)\n",
      "Requirement already satisfied: h11<0.15,>=0.13 in /home/yejun/.pyenv/versions/3.11.9/envs/graduation-chatbot/lib/python3.11/site-packages (from httpcore==1.*->httpx<1,>=0.23.0->langsmith<0.2.0,>=0.1.125->langchain-core<0.4,>=0.3->langchain-pinecone) (0.14.0)\n",
      "Requirement already satisfied: charset-normalizer<4,>=2 in /home/yejun/.pyenv/versions/3.11.9/envs/graduation-chatbot/lib/python3.11/site-packages (from requests<3,>=2->langsmith<0.2.0,>=0.1.125->langchain-core<0.4,>=0.3->langchain-pinecone) (3.3.2)\n",
      "Downloading langchain_pinecone-0.2.0-py3-none-any.whl (11 kB)\n",
      "Downloading aiohttp-3.9.5-cp311-cp311-manylinux_2_17_x86_64.manylinux2014_x86_64.whl (1.3 MB)\n",
      "\u001b[2K   \u001b[90m━━━━━━━━━━━━━━━━━━━━━━━━━━━━━━━━━━━━━━━━\u001b[0m \u001b[32m1.3/1.3 MB\u001b[0m \u001b[31m18.2 MB/s\u001b[0m eta \u001b[36m0:00:00\u001b[0m00:01\u001b[0m00:01\u001b[0m\n",
      "\u001b[?25hUsing cached pinecone_client-5.0.1-py3-none-any.whl (244 kB)\n",
      "Using cached pinecone_plugin_inference-1.1.0-py3-none-any.whl (85 kB)\n",
      "Using cached pinecone_plugin_interface-0.0.7-py3-none-any.whl (6.2 kB)\n",
      "Using cached tqdm-4.66.5-py3-none-any.whl (78 kB)\n",
      "Installing collected packages: tqdm, pinecone-plugin-interface, pinecone-plugin-inference, aiohttp, pinecone-client, langchain-pinecone\n",
      "  Attempting uninstall: aiohttp\n",
      "    Found existing installation: aiohttp 3.10.8\n",
      "    Uninstalling aiohttp-3.10.8:\n",
      "      Successfully uninstalled aiohttp-3.10.8\n",
      "Successfully installed aiohttp-3.9.5 langchain-pinecone-0.2.0 pinecone-client-5.0.1 pinecone-plugin-inference-1.1.0 pinecone-plugin-interface-0.0.7 tqdm-4.66.5\n",
      "\n",
      "\u001b[1m[\u001b[0m\u001b[34;49mnotice\u001b[0m\u001b[1;39;49m]\u001b[0m\u001b[39;49m A new release of pip is available: \u001b[0m\u001b[31;49m24.0\u001b[0m\u001b[39;49m -> \u001b[0m\u001b[32;49m24.2\u001b[0m\n",
      "\u001b[1m[\u001b[0m\u001b[34;49mnotice\u001b[0m\u001b[1;39;49m]\u001b[0m\u001b[39;49m To update, run: \u001b[0m\u001b[32;49mpip install --upgrade pip\u001b[0m\n",
      "Note: you may need to restart the kernel to use updated packages.\n"
     ]
    }
   ],
   "source": [
    "%pip install langchain-pinecone"
   ]
  },
  {
   "cell_type": "code",
   "execution_count": 4,
   "metadata": {},
   "outputs": [
    {
     "name": "stdout",
     "output_type": "stream",
     "text": [
      "Collecting langchain-openai\n",
      "  Downloading langchain_openai-0.2.1-py3-none-any.whl.metadata (2.6 kB)\n",
      "Requirement already satisfied: python-dotenv in /home/yejun/.pyenv/versions/3.11.9/envs/graduation-chatbot/lib/python3.11/site-packages (1.0.1)\n",
      "Requirement already satisfied: langchain-core<0.4,>=0.3 in /home/yejun/.pyenv/versions/3.11.9/envs/graduation-chatbot/lib/python3.11/site-packages (from langchain-openai) (0.3.6)\n",
      "Collecting openai<2.0.0,>=1.40.0 (from langchain-openai)\n",
      "  Using cached openai-1.50.2-py3-none-any.whl.metadata (24 kB)\n",
      "Collecting tiktoken<1,>=0.7 (from langchain-openai)\n",
      "  Downloading tiktoken-0.7.0-cp311-cp311-manylinux_2_17_x86_64.manylinux2014_x86_64.whl.metadata (6.6 kB)\n",
      "Requirement already satisfied: PyYAML>=5.3 in /home/yejun/.pyenv/versions/3.11.9/envs/graduation-chatbot/lib/python3.11/site-packages (from langchain-core<0.4,>=0.3->langchain-openai) (6.0.2)\n",
      "Requirement already satisfied: jsonpatch<2.0,>=1.33 in /home/yejun/.pyenv/versions/3.11.9/envs/graduation-chatbot/lib/python3.11/site-packages (from langchain-core<0.4,>=0.3->langchain-openai) (1.33)\n",
      "Requirement already satisfied: langsmith<0.2.0,>=0.1.125 in /home/yejun/.pyenv/versions/3.11.9/envs/graduation-chatbot/lib/python3.11/site-packages (from langchain-core<0.4,>=0.3->langchain-openai) (0.1.129)\n",
      "Requirement already satisfied: packaging<25,>=23.2 in /home/yejun/.pyenv/versions/3.11.9/envs/graduation-chatbot/lib/python3.11/site-packages (from langchain-core<0.4,>=0.3->langchain-openai) (24.1)\n",
      "Requirement already satisfied: pydantic<3.0.0,>=2.5.2 in /home/yejun/.pyenv/versions/3.11.9/envs/graduation-chatbot/lib/python3.11/site-packages (from langchain-core<0.4,>=0.3->langchain-openai) (2.9.2)\n",
      "Requirement already satisfied: tenacity!=8.4.0,<9.0.0,>=8.1.0 in /home/yejun/.pyenv/versions/3.11.9/envs/graduation-chatbot/lib/python3.11/site-packages (from langchain-core<0.4,>=0.3->langchain-openai) (8.5.0)\n",
      "Requirement already satisfied: typing-extensions>=4.7 in /home/yejun/.pyenv/versions/3.11.9/envs/graduation-chatbot/lib/python3.11/site-packages (from langchain-core<0.4,>=0.3->langchain-openai) (4.12.2)\n",
      "Requirement already satisfied: anyio<5,>=3.5.0 in /home/yejun/.pyenv/versions/3.11.9/envs/graduation-chatbot/lib/python3.11/site-packages (from openai<2.0.0,>=1.40.0->langchain-openai) (4.6.0)\n",
      "Collecting distro<2,>=1.7.0 (from openai<2.0.0,>=1.40.0->langchain-openai)\n",
      "  Using cached distro-1.9.0-py3-none-any.whl.metadata (6.8 kB)\n",
      "Requirement already satisfied: httpx<1,>=0.23.0 in /home/yejun/.pyenv/versions/3.11.9/envs/graduation-chatbot/lib/python3.11/site-packages (from openai<2.0.0,>=1.40.0->langchain-openai) (0.27.2)\n",
      "Collecting jiter<1,>=0.4.0 (from openai<2.0.0,>=1.40.0->langchain-openai)\n",
      "  Using cached jiter-0.5.0-cp311-cp311-manylinux_2_17_x86_64.manylinux2014_x86_64.whl.metadata (3.6 kB)\n",
      "Requirement already satisfied: sniffio in /home/yejun/.pyenv/versions/3.11.9/envs/graduation-chatbot/lib/python3.11/site-packages (from openai<2.0.0,>=1.40.0->langchain-openai) (1.3.1)\n",
      "Requirement already satisfied: tqdm>4 in /home/yejun/.pyenv/versions/3.11.9/envs/graduation-chatbot/lib/python3.11/site-packages (from openai<2.0.0,>=1.40.0->langchain-openai) (4.66.5)\n",
      "Collecting regex>=2022.1.18 (from tiktoken<1,>=0.7->langchain-openai)\n",
      "  Using cached regex-2024.9.11-cp311-cp311-manylinux_2_17_x86_64.manylinux2014_x86_64.whl.metadata (40 kB)\n",
      "Requirement already satisfied: requests>=2.26.0 in /home/yejun/.pyenv/versions/3.11.9/envs/graduation-chatbot/lib/python3.11/site-packages (from tiktoken<1,>=0.7->langchain-openai) (2.32.3)\n",
      "Requirement already satisfied: idna>=2.8 in /home/yejun/.pyenv/versions/3.11.9/envs/graduation-chatbot/lib/python3.11/site-packages (from anyio<5,>=3.5.0->openai<2.0.0,>=1.40.0->langchain-openai) (3.10)\n",
      "Requirement already satisfied: certifi in /home/yejun/.pyenv/versions/3.11.9/envs/graduation-chatbot/lib/python3.11/site-packages (from httpx<1,>=0.23.0->openai<2.0.0,>=1.40.0->langchain-openai) (2024.8.30)\n",
      "Requirement already satisfied: httpcore==1.* in /home/yejun/.pyenv/versions/3.11.9/envs/graduation-chatbot/lib/python3.11/site-packages (from httpx<1,>=0.23.0->openai<2.0.0,>=1.40.0->langchain-openai) (1.0.5)\n",
      "Requirement already satisfied: h11<0.15,>=0.13 in /home/yejun/.pyenv/versions/3.11.9/envs/graduation-chatbot/lib/python3.11/site-packages (from httpcore==1.*->httpx<1,>=0.23.0->openai<2.0.0,>=1.40.0->langchain-openai) (0.14.0)\n",
      "Requirement already satisfied: jsonpointer>=1.9 in /home/yejun/.pyenv/versions/3.11.9/envs/graduation-chatbot/lib/python3.11/site-packages (from jsonpatch<2.0,>=1.33->langchain-core<0.4,>=0.3->langchain-openai) (3.0.0)\n",
      "Requirement already satisfied: orjson<4.0.0,>=3.9.14 in /home/yejun/.pyenv/versions/3.11.9/envs/graduation-chatbot/lib/python3.11/site-packages (from langsmith<0.2.0,>=0.1.125->langchain-core<0.4,>=0.3->langchain-openai) (3.10.7)\n",
      "Requirement already satisfied: annotated-types>=0.6.0 in /home/yejun/.pyenv/versions/3.11.9/envs/graduation-chatbot/lib/python3.11/site-packages (from pydantic<3.0.0,>=2.5.2->langchain-core<0.4,>=0.3->langchain-openai) (0.7.0)\n",
      "Requirement already satisfied: pydantic-core==2.23.4 in /home/yejun/.pyenv/versions/3.11.9/envs/graduation-chatbot/lib/python3.11/site-packages (from pydantic<3.0.0,>=2.5.2->langchain-core<0.4,>=0.3->langchain-openai) (2.23.4)\n",
      "Requirement already satisfied: charset-normalizer<4,>=2 in /home/yejun/.pyenv/versions/3.11.9/envs/graduation-chatbot/lib/python3.11/site-packages (from requests>=2.26.0->tiktoken<1,>=0.7->langchain-openai) (3.3.2)\n",
      "Requirement already satisfied: urllib3<3,>=1.21.1 in /home/yejun/.pyenv/versions/3.11.9/envs/graduation-chatbot/lib/python3.11/site-packages (from requests>=2.26.0->tiktoken<1,>=0.7->langchain-openai) (2.2.3)\n",
      "Downloading langchain_openai-0.2.1-py3-none-any.whl (49 kB)\n",
      "\u001b[2K   \u001b[90m━━━━━━━━━━━━━━━━━━━━━━━━━━━━━━━━━━━━━━━━\u001b[0m \u001b[32m49.6/49.6 kB\u001b[0m \u001b[31m3.0 MB/s\u001b[0m eta \u001b[36m0:00:00\u001b[0m\n",
      "\u001b[?25hUsing cached openai-1.50.2-py3-none-any.whl (382 kB)\n",
      "Downloading tiktoken-0.7.0-cp311-cp311-manylinux_2_17_x86_64.manylinux2014_x86_64.whl (1.1 MB)\n",
      "\u001b[2K   \u001b[90m━━━━━━━━━━━━━━━━━━━━━━━━━━━━━━━━━━━━━━━━\u001b[0m \u001b[32m1.1/1.1 MB\u001b[0m \u001b[31m12.5 MB/s\u001b[0m eta \u001b[36m0:00:00\u001b[0ma \u001b[36m0:00:01\u001b[0m\n",
      "\u001b[?25hUsing cached distro-1.9.0-py3-none-any.whl (20 kB)\n",
      "Using cached jiter-0.5.0-cp311-cp311-manylinux_2_17_x86_64.manylinux2014_x86_64.whl (319 kB)\n",
      "Using cached regex-2024.9.11-cp311-cp311-manylinux_2_17_x86_64.manylinux2014_x86_64.whl (792 kB)\n",
      "Installing collected packages: regex, jiter, distro, tiktoken, openai, langchain-openai\n",
      "Successfully installed distro-1.9.0 jiter-0.5.0 langchain-openai-0.2.1 openai-1.50.2 regex-2024.9.11 tiktoken-0.7.0\n",
      "\n",
      "\u001b[1m[\u001b[0m\u001b[34;49mnotice\u001b[0m\u001b[1;39;49m]\u001b[0m\u001b[39;49m A new release of pip is available: \u001b[0m\u001b[31;49m24.0\u001b[0m\u001b[39;49m -> \u001b[0m\u001b[32;49m24.2\u001b[0m\n",
      "\u001b[1m[\u001b[0m\u001b[34;49mnotice\u001b[0m\u001b[1;39;49m]\u001b[0m\u001b[39;49m To update, run: \u001b[0m\u001b[32;49mpip install --upgrade pip\u001b[0m\n",
      "Note: you may need to restart the kernel to use updated packages.\n"
     ]
    }
   ],
   "source": [
    "%pip install langchain-openai python-dotenv"
   ]
  },
  {
   "cell_type": "code",
   "execution_count": 5,
   "metadata": {},
   "outputs": [
    {
     "name": "stdout",
     "output_type": "stream",
     "text": [
      "\n",
      "\u001b[1m[\u001b[0m\u001b[34;49mnotice\u001b[0m\u001b[1;39;49m]\u001b[0m\u001b[39;49m A new release of pip is available: \u001b[0m\u001b[31;49m24.0\u001b[0m\u001b[39;49m -> \u001b[0m\u001b[32;49m24.2\u001b[0m\n",
      "\u001b[1m[\u001b[0m\u001b[34;49mnotice\u001b[0m\u001b[1;39;49m]\u001b[0m\u001b[39;49m To update, run: \u001b[0m\u001b[32;49mpip install --upgrade pip\u001b[0m\n",
      "Note: you may need to restart the kernel to use updated packages.\n"
     ]
    }
   ],
   "source": [
    "%pip install -U langchain langchainhub --quiet"
   ]
  },
  {
   "cell_type": "code",
   "execution_count": 13,
   "metadata": {},
   "outputs": [
    {
     "name": "stdout",
     "output_type": "stream",
     "text": [
      "Requirement already satisfied: pypdf in /home/yejun/.pyenv/versions/3.11.9/envs/graduation-chatbot/lib/python3.11/site-packages (5.0.1)\n",
      "\n",
      "\u001b[1m[\u001b[0m\u001b[34;49mnotice\u001b[0m\u001b[1;39;49m]\u001b[0m\u001b[39;49m A new release of pip is available: \u001b[0m\u001b[31;49m24.0\u001b[0m\u001b[39;49m -> \u001b[0m\u001b[32;49m24.2\u001b[0m\n",
      "\u001b[1m[\u001b[0m\u001b[34;49mnotice\u001b[0m\u001b[1;39;49m]\u001b[0m\u001b[39;49m To update, run: \u001b[0m\u001b[32;49mpip install --upgrade pip\u001b[0m\n",
      "Note: you may need to restart the kernel to use updated packages.\n"
     ]
    }
   ],
   "source": [
    "%pip install -qU pypdf"
   ]
  },
  {
   "cell_type": "code",
   "execution_count": 14,
   "metadata": {},
   "outputs": [
    {
     "name": "stdout",
     "output_type": "stream",
     "text": [
      "Requirement already satisfied: langchain_openai in /home/yejun/.pyenv/versions/3.11.9/envs/graduation-chatbot/lib/python3.11/site-packages (0.2.1)\n",
      "Requirement already satisfied: langchain-core<0.4,>=0.3 in /home/yejun/.pyenv/versions/3.11.9/envs/graduation-chatbot/lib/python3.11/site-packages (from langchain_openai) (0.3.6)\n",
      "Requirement already satisfied: openai<2.0.0,>=1.40.0 in /home/yejun/.pyenv/versions/3.11.9/envs/graduation-chatbot/lib/python3.11/site-packages (from langchain_openai) (1.50.2)\n",
      "Requirement already satisfied: tiktoken<1,>=0.7 in /home/yejun/.pyenv/versions/3.11.9/envs/graduation-chatbot/lib/python3.11/site-packages (from langchain_openai) (0.7.0)\n",
      "Requirement already satisfied: PyYAML>=5.3 in /home/yejun/.pyenv/versions/3.11.9/envs/graduation-chatbot/lib/python3.11/site-packages (from langchain-core<0.4,>=0.3->langchain_openai) (6.0.2)\n",
      "Requirement already satisfied: jsonpatch<2.0,>=1.33 in /home/yejun/.pyenv/versions/3.11.9/envs/graduation-chatbot/lib/python3.11/site-packages (from langchain-core<0.4,>=0.3->langchain_openai) (1.33)\n",
      "Requirement already satisfied: langsmith<0.2.0,>=0.1.125 in /home/yejun/.pyenv/versions/3.11.9/envs/graduation-chatbot/lib/python3.11/site-packages (from langchain-core<0.4,>=0.3->langchain_openai) (0.1.129)\n",
      "Requirement already satisfied: packaging<25,>=23.2 in /home/yejun/.pyenv/versions/3.11.9/envs/graduation-chatbot/lib/python3.11/site-packages (from langchain-core<0.4,>=0.3->langchain_openai) (24.1)\n",
      "Requirement already satisfied: pydantic<3.0.0,>=2.5.2 in /home/yejun/.pyenv/versions/3.11.9/envs/graduation-chatbot/lib/python3.11/site-packages (from langchain-core<0.4,>=0.3->langchain_openai) (2.9.2)\n",
      "Requirement already satisfied: tenacity!=8.4.0,<9.0.0,>=8.1.0 in /home/yejun/.pyenv/versions/3.11.9/envs/graduation-chatbot/lib/python3.11/site-packages (from langchain-core<0.4,>=0.3->langchain_openai) (8.5.0)\n",
      "Requirement already satisfied: typing-extensions>=4.7 in /home/yejun/.pyenv/versions/3.11.9/envs/graduation-chatbot/lib/python3.11/site-packages (from langchain-core<0.4,>=0.3->langchain_openai) (4.12.2)\n",
      "Requirement already satisfied: anyio<5,>=3.5.0 in /home/yejun/.pyenv/versions/3.11.9/envs/graduation-chatbot/lib/python3.11/site-packages (from openai<2.0.0,>=1.40.0->langchain_openai) (4.6.0)\n",
      "Requirement already satisfied: distro<2,>=1.7.0 in /home/yejun/.pyenv/versions/3.11.9/envs/graduation-chatbot/lib/python3.11/site-packages (from openai<2.0.0,>=1.40.0->langchain_openai) (1.9.0)\n",
      "Requirement already satisfied: httpx<1,>=0.23.0 in /home/yejun/.pyenv/versions/3.11.9/envs/graduation-chatbot/lib/python3.11/site-packages (from openai<2.0.0,>=1.40.0->langchain_openai) (0.27.2)\n",
      "Requirement already satisfied: jiter<1,>=0.4.0 in /home/yejun/.pyenv/versions/3.11.9/envs/graduation-chatbot/lib/python3.11/site-packages (from openai<2.0.0,>=1.40.0->langchain_openai) (0.5.0)\n",
      "Requirement already satisfied: sniffio in /home/yejun/.pyenv/versions/3.11.9/envs/graduation-chatbot/lib/python3.11/site-packages (from openai<2.0.0,>=1.40.0->langchain_openai) (1.3.1)\n",
      "Requirement already satisfied: tqdm>4 in /home/yejun/.pyenv/versions/3.11.9/envs/graduation-chatbot/lib/python3.11/site-packages (from openai<2.0.0,>=1.40.0->langchain_openai) (4.66.5)\n",
      "Requirement already satisfied: regex>=2022.1.18 in /home/yejun/.pyenv/versions/3.11.9/envs/graduation-chatbot/lib/python3.11/site-packages (from tiktoken<1,>=0.7->langchain_openai) (2024.9.11)\n",
      "Requirement already satisfied: requests>=2.26.0 in /home/yejun/.pyenv/versions/3.11.9/envs/graduation-chatbot/lib/python3.11/site-packages (from tiktoken<1,>=0.7->langchain_openai) (2.32.3)\n",
      "Requirement already satisfied: idna>=2.8 in /home/yejun/.pyenv/versions/3.11.9/envs/graduation-chatbot/lib/python3.11/site-packages (from anyio<5,>=3.5.0->openai<2.0.0,>=1.40.0->langchain_openai) (3.10)\n",
      "Requirement already satisfied: certifi in /home/yejun/.pyenv/versions/3.11.9/envs/graduation-chatbot/lib/python3.11/site-packages (from httpx<1,>=0.23.0->openai<2.0.0,>=1.40.0->langchain_openai) (2024.8.30)\n",
      "Requirement already satisfied: httpcore==1.* in /home/yejun/.pyenv/versions/3.11.9/envs/graduation-chatbot/lib/python3.11/site-packages (from httpx<1,>=0.23.0->openai<2.0.0,>=1.40.0->langchain_openai) (1.0.5)\n",
      "Requirement already satisfied: h11<0.15,>=0.13 in /home/yejun/.pyenv/versions/3.11.9/envs/graduation-chatbot/lib/python3.11/site-packages (from httpcore==1.*->httpx<1,>=0.23.0->openai<2.0.0,>=1.40.0->langchain_openai) (0.14.0)\n",
      "Requirement already satisfied: jsonpointer>=1.9 in /home/yejun/.pyenv/versions/3.11.9/envs/graduation-chatbot/lib/python3.11/site-packages (from jsonpatch<2.0,>=1.33->langchain-core<0.4,>=0.3->langchain_openai) (3.0.0)\n",
      "Requirement already satisfied: orjson<4.0.0,>=3.9.14 in /home/yejun/.pyenv/versions/3.11.9/envs/graduation-chatbot/lib/python3.11/site-packages (from langsmith<0.2.0,>=0.1.125->langchain-core<0.4,>=0.3->langchain_openai) (3.10.7)\n",
      "Requirement already satisfied: annotated-types>=0.6.0 in /home/yejun/.pyenv/versions/3.11.9/envs/graduation-chatbot/lib/python3.11/site-packages (from pydantic<3.0.0,>=2.5.2->langchain-core<0.4,>=0.3->langchain_openai) (0.7.0)\n",
      "Requirement already satisfied: pydantic-core==2.23.4 in /home/yejun/.pyenv/versions/3.11.9/envs/graduation-chatbot/lib/python3.11/site-packages (from pydantic<3.0.0,>=2.5.2->langchain-core<0.4,>=0.3->langchain_openai) (2.23.4)\n",
      "Requirement already satisfied: charset-normalizer<4,>=2 in /home/yejun/.pyenv/versions/3.11.9/envs/graduation-chatbot/lib/python3.11/site-packages (from requests>=2.26.0->tiktoken<1,>=0.7->langchain_openai) (3.3.2)\n",
      "Requirement already satisfied: urllib3<3,>=1.21.1 in /home/yejun/.pyenv/versions/3.11.9/envs/graduation-chatbot/lib/python3.11/site-packages (from requests>=2.26.0->tiktoken<1,>=0.7->langchain_openai) (2.2.3)\n",
      "\n",
      "\u001b[1m[\u001b[0m\u001b[34;49mnotice\u001b[0m\u001b[1;39;49m]\u001b[0m\u001b[39;49m A new release of pip is available: \u001b[0m\u001b[31;49m24.0\u001b[0m\u001b[39;49m -> \u001b[0m\u001b[32;49m24.2\u001b[0m\n",
      "\u001b[1m[\u001b[0m\u001b[34;49mnotice\u001b[0m\u001b[1;39;49m]\u001b[0m\u001b[39;49m To update, run: \u001b[0m\u001b[32;49mpip install --upgrade pip\u001b[0m\n",
      "Note: you may need to restart the kernel to use updated packages.\n"
     ]
    }
   ],
   "source": [
    "%pip install langchain_openai"
   ]
  },
  {
   "cell_type": "markdown",
   "metadata": {},
   "source": [
    "# rag-graduation"
   ]
  },
  {
   "cell_type": "code",
   "execution_count": 28,
   "metadata": {},
   "outputs": [],
   "source": [
    "FILE_PATH = \"./data/joongbu-graduation-2024.pdf\""
   ]
  },
  {
   "cell_type": "code",
   "execution_count": 36,
   "metadata": {},
   "outputs": [],
   "source": [
    "from langchain.document_loaders import PyPDFLoader\n",
    "from langchain.text_splitter import RecursiveCharacterTextSplitter\n",
    "\n",
    "text_splitter = RecursiveCharacterTextSplitter(\n",
    "    chunk_size=1500,\n",
    "    chunk_overlap=200 \n",
    ")\n",
    "\n",
    "loader = PyPDFLoader(FILE_PATH)\n",
    "\n",
    "document_list = loader.load_and_split(text_splitter=text_splitter)"
   ]
  },
  {
   "cell_type": "code",
   "execution_count": 39,
   "metadata": {},
   "outputs": [
    {
     "data": {
      "text/plain": [
       "132"
      ]
     },
     "execution_count": 39,
     "metadata": {},
     "output_type": "execute_result"
    }
   ],
   "source": [
    "len(document_list)"
   ]
  },
  {
   "cell_type": "code",
   "execution_count": 3,
   "metadata": {},
   "outputs": [],
   "source": [
    "from dotenv import load_dotenv\n",
    "from langchain_openai import OpenAIEmbeddings\n",
    "\n",
    "load_dotenv()\n",
    "embedding = OpenAIEmbeddings(model='text-embedding-3-large')"
   ]
  },
  {
   "cell_type": "code",
   "execution_count": 4,
   "metadata": {},
   "outputs": [],
   "source": [
    "import os\n",
    "from pinecone import Pinecone\n",
    "from langchain_pinecone import PineconeVectorStore\n",
    "from langchain.vectorstores import Pinecone as LangchainPinecone\n",
    "\n",
    "index_name = 'joongbu-graduation'\n",
    "pinecone_api_key = os.environ.get(\"PINECONE_API_KEY\")\n",
    "pc = Pinecone(api_key=pinecone_api_key)\n",
    "\n",
    "#database = PineconeVectorStore.from_documents(document_list, embedding, index_name=index_name)\n",
    "database = LangchainPinecone.from_existing_index(index_name=index_name, embedding=embedding)"
   ]
  },
  {
   "cell_type": "code",
   "execution_count": 38,
   "metadata": {},
   "outputs": [],
   "source": [
    "retrieved_pdf = database.similarity_search(query, k=3)"
   ]
  },
  {
   "cell_type": "code",
   "execution_count": 39,
   "metadata": {},
   "outputs": [
    {
     "data": {
      "text/plain": [
       "[Document(metadata={'page': 94.0, 'source': './data/joongbu-graduation-2024.pdf'}, page_content='- 92 -44. 정보보호학전공 (정보보호학과 )\\n대상 구분 세부기준 주전공 복수전공 논문면제\\n2011년\\n~\\n2017년\\n입학자졸업\\n자격\\n인증① CCNA ② OCA ③ LPIC ④ SCSA ⑤ SCJP\\n○ - -⑥ 리눅스마스터 ⑦ 전자상거래관리사\\n⑧ 정보처리기사 ⑨ 정보보안기사\\n⑩ 윈도우포렌식 ⑪ 네크워크관리사\\n⑫ 보안관제사 ⑬ 인터넷보안전문가\\n※ ①~⑬ 중 택1\\n‣ 졸업자격인증 대체\\n 1. 취업자(전공/학과별 선택)\\n  - 재직증명서 및 4대보험 가입확인서 제출. \\n    단, 단기성 아르바이트와 사업자등록증 제출 불허 \\n 2. 졸업자격인증시험 통과자(대학 공통)\\n  - 자격증 등 기본 졸업자격인증조건 미취득시 전공/학과별 자율 졸업자격   \\n   인증시험 시행(※졸업자격인증시험은 졸업논문대체의 졸업시험과 별도시행 )\\n졸업\\n논문택1졸업논문① 암호기술분야  ② 시스템 /네트워크분야  ③ 응용보안분야\\n   (※ ①~③ 중 택1 / 성적 80점 이상)\\n실기발표\\n/실험실습보고서① 암호기술분야  ② 시스템 /네트워크분야  ③ 응용보안분야\\n   (※ ①~③ 중 택1 / 성적 80점 이상)\\n졸업시험 해당없음\\n2018년\\n이후\\n입학자\\n/\\n2020년\\n3학년\\n편입자졸업\\n자격\\n인증택1① CCNA ② OCA ③ LPIC ④ SCSA ⑤ SCJP\\n○ - -⑥ 리눅스마스터 ⑦ 전자상거래관리사\\n⑧ 정보처리기사 ⑨ 정보보안기사\\n⑩ 윈도우포렌식 ⑪ 네크워크관리사\\n⑫ 보안관제사 ⑬ 인터넷보안전문가\\n※ ①~⑬ 중 택1\\n① 졸업시험 ○ ○ -\\n‣ 졸업자격인증 대체\\n 1. 취업자(전공/학과별 선택)\\n  - 재직증명서 및 4대보험 가입확인서 제출. \\n    단, 단기성 아르바이트와 사업자등록증 제출 불허 \\n 2. 졸업자격인증시험 통과자(대학 공통)\\n  - 자격증 등 기본 졸업자격인증조건 미취득시 전공/학과별 자율 졸업자격   \\n   인증시험 시행(※졸업자격인증시험은 졸업논문대체의 졸업시험과 별도시행 )\\n졸업\\n논문택1졸업논문① 암호기술분야  ② 시스템 /네트워크분야  ③ 응용보안분야\\n   (※ ①~③ 중 택1 / 성적 80점 이상)\\n졸업시험\\n(논문대체 )① 암호기술  ② 네트워크 /시스템보안  ③ 정보보안관리시스템\\n   (※ 과목별 성적 60점 이상 / 정보보안(산업)기사 취득자 시험면제)\\n실기발표 /\\n실험실습보고서\\n(논문대체 )① 암호기술분야  ② 시스템 /네트워크분야  ③ 응용보안분야\\n   (※ ①~③ 중 택1 / 성적 80점 이상)'),\n",
       " Document(metadata={'page': 21.0, 'source': './data/joongbu-graduation-2024.pdf'}, page_content='- 19 - 2016학번 학과별 졸업 이수학점 기준표\\n           이수구분\\n 학과①교양 최소이수학점 ②전공 최소이수학점③졸업최소이수학점\\n(①+②+교직+일선) 필수선택총학점주전공(심화과정)\\n(전필+전선+전공)복수\\n전공부전공\\n한국어학전공 1212 24 60 36 21 130\\n도시행정학과 1212 24 60 36 21 130\\n문헌정보학과 1212 24 60 36 21 130\\n미디어커뮤니케이션학전공 1212 24 60 36 21 130\\n광고홍보학과 1212 24 60 36 21 130\\n엔터테인먼트학전공 1212 24 60 36 21 130\\n보건행정학과 1212 24 60 36 21 130\\n노인복지학과 1212 24 60 36 21 130\\n사회복지학과 1212 24 60 36 21 130\\n경영학과 1212 24 60 36 21 130\\n국제통상학과 1212 24 60 36 21 130\\n사\\n범\\n계\\n열유아교육과 1212 24 60 50(36) (21) 135\\n유아특수교육과 1212 24 80 80(36) (21) 135\\n초등특수교육과 1212 24 80 80(36) (21) 135\\n중등특수교육과 1212 24 80 80(36) (21) 135\\n경찰행정학전공 1212 24 60 36 21 130\\n경찰법학전공 1212 24 60 36 21 130\\n경찰경호학전공 1212 24 66 36 21 130\\n호텔경영학과 1212 24 60 36 21 135\\n호텔외식산업학과 1212 24 60 36 21 135\\n관광경영학과 1212 24 60 36 21 135\\n항공서비스학전공 1212 24 60 36 21 135\\n한방보건제약학전공 1212 24 90 90 21 135\\n식품영양학과 1212 24 60 36 21 135\\n식품생명과학과 1212 24 60 36 21 135\\n화장품과학과 1212 24 60 36 21 135\\n한방건강관리학과 1212 24 60 36 21 135\\n간호학과 12 5 17 100 / / 135\\n물리치료학과 1212 24 70 / / 135\\n동물사육학전공 1212 24 60 36 21 135\\n건축학과 1212 24 60 36 21 135\\n토목공학과 1212 24 60 36 21 135\\n환경조경학과 1212 24 60 36 21 135\\n게임소프트웨어학과 1212 24 60 36 21 135\\n정보보호학과 1212 24 60 36 21 135\\n정보통신학과 1212 24 60 36 21 135\\n자동차관리학과 1212 24 60 36 21 135\\n전기전자공학과 1212 24 60 36 21 135\\n출판미디어공학과 1212 24 60 36 21 135\\n산업디자인학전공 1212 24 66 36 21 135\\n만화애니메이션학전공 1212 24 66 36 21 135\\n패션디자인학과 1212 24 66 36 21 135\\n사진영상학전공 1212 24 66 36 21 135\\n연극영화학전공 1212 24 66 36 21 135\\n뷰티케어전공 1212 24 66 36 21 135\\n실용음악학전공 1212 24 66 36 21 135'),\n",
       " Document(metadata={'page': 17.0, 'source': './data/joongbu-graduation-2024.pdf'}, page_content='- 15 -  2018학번 학부(학과, 전공)별 졸업 이수학점 기준표\\n \\n 【이수시 주의사항 】\\nl졸업을 위해서는 위 표의 교양 및 전공 졸업학점 의 최소이수학점을 취득하고 , 이외에 비교과 과정(JB-hexa 인증  \\n점수 30점 이상) 및 전공(학과)별 졸업자격인증기준 에 충족하여야 만 졸업이 가능함.\\nl교원자격 취득을 위한 졸업자격 기준은 교원자격검정 기준에 따른다.\\nl교양은 학년별 지정된 필수교과목을 반드시 이수하여야 하며, 자유교양의 주제군과 이수학점 기준은 다음과 같다.                        이수구분\\n 학부(학과/전공)①교양 최소이수학점 ②전공 최소이수학점③졸업최소이수학점\\n(①+②+교직+일선) 필수선택총학점주전공(심화과정)\\n(학공+학기+전공)복수\\n전공부전공\\n경찰경호\\n학부경찰행정학전공 1212 24 60 3621 130\\n경찰법학전공 1212 24 60 3621 130\\n경찰경호학전공 1212 24 66 3621 130\\n글로벌비즈니\\n스학부경영학전공1212 2460 3621130국제통상학전공 60 3621\\n사범\\n학부유아교육과 1212 24 60 50(36)(21) 135\\n유아특수교육과 1212 24 80 80(36)(21) 135\\n초등특수교육과 1212 24 80 80(36)(21) 135\\n중등특수교육과 1212 24 80 80(36)(21) 135\\n특수체육교육과 1212 24 80 80(36)(21) 135\\n항공관광\\n학부항공서비스학전공 1212 24 60 3621 135\\n관광경영학전공\\n1212 2460 3621\\n135호텔·외식산업학전공 60 3621\\n식품영양학전공 60 3621\\n레저스포츠학전공 66 3621\\n골프학전공 66 3621\\n보건복지\\n학부보건행정학과 1212 24 60 3621 130\\n간호학과 12517 100 -- 135\\n물리치료학과 1212 24 70 -- 135\\n한방보건제약학전공 1212 24 80 8021 135\\n사회복지학전공\\n1212 2460 3621\\n130 아동보육학전공 60 3621\\n문헌정보학전공 60 3621\\n바이오융합\\n학부바이오의약공학전공\\n1212 2460 3621\\n135스마트헬스케어공학전공 60 3621\\n바이오화장품전공 60 3621\\n동물사육학전공 60 3621\\n환경조경학전공 60 3621\\n건축토목\\n공학부건축학전공1212 2460 3621135토목공학전공 60 3621\\n소프트웨어공\\n학부게임소프트웨어전공1212 2460 3621135정보보호학전공 60 3621\\n전기전자자동\\n차공학부전기전자공학전공\\n1212 2460 3621\\n135 스마트모빌리티전공 60 3621\\n전자출판인쇄공학전공 60 3621\\n문화콘텐츠\\n학부산업디자인학전공 1212 24 66 3621 135\\n만화애니메이션학전공 1212 24 66 3621 135\\n사진영상학전공 1212 24 66 3621 135\\n미디어커뮤니케이션학전공 1212 24 60 3621 130\\n공연예술\\n체육학부연극영화학전공 1212 24 66 3621 135\\n실용음악학전공 1212 24 66 3621 135\\n엔터테인먼트학전공 1212 24 60 3621 130')]"
      ]
     },
     "execution_count": 39,
     "metadata": {},
     "output_type": "execute_result"
    }
   ],
   "source": [
    "retrieved_pdf"
   ]
  },
  {
   "cell_type": "code",
   "execution_count": 41,
   "metadata": {},
   "outputs": [
    {
     "name": "stderr",
     "output_type": "stream",
     "text": [
      "/home/yejun/.pyenv/versions/3.11.9/envs/graduation-chatbot/lib/python3.11/site-packages/langsmith/client.py:323: LangSmithMissingAPIKeyWarning: API key must be provided when using hosted LangSmith API\n",
      "  warnings.warn(\n"
     ]
    }
   ],
   "source": [
    "from langchain_openai import ChatOpenAI\n",
    "from langchain import hub\n",
    "\n",
    "llm = ChatOpenAI(model='gpt-4o')\n",
    "prompt = hub.pull(\"rlm/rag-prompt\")"
   ]
  },
  {
   "cell_type": "code",
   "execution_count": 43,
   "metadata": {},
   "outputs": [],
   "source": [
    "query = '19학번 정보보호학과인데, 졸업하려면 이수학점 기준이 어떻게 되나요?'"
   ]
  },
  {
   "cell_type": "code",
   "execution_count": 44,
   "metadata": {},
   "outputs": [],
   "source": [
    "prompt = f\"\"\"[Identity]\n",
    "- 당신은 중부대학교 졸업 기준과 학점 이수 요건에 대해 깊이 있는 지식을 가지고 있는 전문가입니다.\n",
    "- [Context]를 참고하여, 졸업 요건과 학점 관련 정보를 사용자의 질문에 맞게 정확하고 자세하게 답변해주세요.\n",
    "\n",
    "[Context]\n",
    "{retrieved_pdf}\n",
    "\n",
    "Question : {query}\n",
    "\"\"\"\n"
   ]
  },
  {
   "cell_type": "code",
   "execution_count": 45,
   "metadata": {},
   "outputs": [],
   "source": [
    "ai_message = llm.invoke(prompt)"
   ]
  },
  {
   "cell_type": "code",
   "execution_count": 49,
   "metadata": {},
   "outputs": [
    {
     "data": {
      "text/plain": [
       "'안녕하세요. 2019학번 정보보호학과 학생의 졸업 이수 학점 기준에 대해 안내해드리겠습니다. \\n\\n2019학번 정보보호학과 학생의 졸업 이수 학점 기준은 다음과 같습니다:\\n\\n1. **교양 최소 이수 학점**\\n   - 필수: 12학점\\n   - 선택: 12학점\\n   - 총 합계: 24학점\\n\\n2. **전공 최소 이수 학점**\\n   - 총 합계: 60학점 (전공 필수+전공 선택)\\n\\n3. **졸업 최소 이수 학점**\\n   - 교양, 전공, 교직, 일반 선택을 포함하여 총 135학점\\n\\n따라서, 졸업을 위해 반드시 교양 24학점, 전공 60학점을 포함하여 총 135학점을 이수해야 합니다. 추가로, 비교과 과정(JB-hexa 인증 점수 30점 이상) 및 전공(학과)별 졸업자격인증기준도 충족해야 졸업이 가능합니다.\\n\\n또한, 졸업 자격 인증은 다음 중 하나를 택해야 합니다:\\n- 자격증 취득 (CCNA, OCA, LPIC, SCSA, SCJP 등 중 하나)\\n- 졸업시험 통과 (암호기술, 네트워크/시스템 보안, 정보보안관리시스템 과목별 성적 60점 이상)\\n- 실기발표/실험실습 보고서 (암호기술, 시스템/네트워크, 응용보안 분야 중 하나 성적 80점 이상)\\n\\n졸업 준비에 있어 추가적인 문의사항이 있으시면 언제든지 질문해 주세요!'"
      ]
     },
     "execution_count": 49,
     "metadata": {},
     "output_type": "execute_result"
    }
   ],
   "source": [
    "ai_message.content"
   ]
  },
  {
   "cell_type": "code",
   "execution_count": null,
   "metadata": {},
   "outputs": [],
   "source": []
  }
 ],
 "metadata": {
  "kernelspec": {
   "display_name": "graduation-chatbot",
   "language": "python",
   "name": "python3"
  },
  "language_info": {
   "codemirror_mode": {
    "name": "ipython",
    "version": 3
   },
   "file_extension": ".py",
   "mimetype": "text/x-python",
   "name": "python",
   "nbconvert_exporter": "python",
   "pygments_lexer": "ipython3",
   "version": "3.11.9"
  }
 },
 "nbformat": 4,
 "nbformat_minor": 2
}
